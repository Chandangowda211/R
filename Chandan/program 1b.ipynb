{
 "cells": [
  {
   "cell_type": "code",
   "execution_count": 2,
   "id": "ac509b9a-0e82-44e0-afd2-14d5fd5c21f5",
   "metadata": {},
   "outputs": [
    {
     "name": "stdout",
     "output_type": "stream",
     "text": [
      "\n",
      "Instances are:\n",
      " [['sunny' 'warm ' 'normal' 'strong' 'warm' 'same ']\n",
      " ['sunny' 'warm ' 'high' 'strong' 'warm' 'same ']\n",
      " ['rainy' 'cold' 'high' 'strong' 'warm' 'change']\n",
      " ['sunny' 'warm ' 'high' 'strong' 'cool' 'change']]\n",
      "\n",
      "Target Values are:  ['yes' 'yes' 'no' 'yes']\n",
      "\n",
      "Instance 1 is  ['sunny' 'warm ' 'normal' 'strong' 'warm' 'same ']\n",
      "Instance is Positive \n"
     ]
    },
    {
     "ename": "NameError",
     "evalue": "name 'specific_h' is not defined",
     "output_type": "error",
     "traceback": [
      "\u001b[1;31m---------------------------------------------------------------------------\u001b[0m",
      "\u001b[1;31mNameError\u001b[0m                                 Traceback (most recent call last)",
      "Cell \u001b[1;32mIn[2], line 18\u001b[0m\n\u001b[0;32m     16\u001b[0m \u001b[38;5;28;01mif\u001b[39;00m target[i] \u001b[38;5;241m==\u001b[39m \u001b[38;5;124m\"\u001b[39m\u001b[38;5;124myes\u001b[39m\u001b[38;5;124m\"\u001b[39m:\n\u001b[0;32m     17\u001b[0m     \u001b[38;5;28mprint\u001b[39m(\u001b[38;5;124m\"\u001b[39m\u001b[38;5;124mInstance is Positive \u001b[39m\u001b[38;5;124m\"\u001b[39m)\n\u001b[1;32m---> 18\u001b[0m     \u001b[38;5;28;01mfor\u001b[39;00m x \u001b[38;5;129;01min\u001b[39;00m \u001b[38;5;28mrange\u001b[39m(\u001b[38;5;28mlen\u001b[39m(\u001b[43mspecific_h\u001b[49m)): \n\u001b[0;32m     19\u001b[0m        \u001b[38;5;28;01mif\u001b[39;00m h[x]\u001b[38;5;241m!=\u001b[39m specific_h[x]:                    \n\u001b[0;32m     20\u001b[0m           specific_h[x] \u001b[38;5;241m=\u001b[39m\u001b[38;5;124m'\u001b[39m\u001b[38;5;124m?\u001b[39m\u001b[38;5;124m'\u001b[39m                     \n",
      "\u001b[1;31mNameError\u001b[0m: name 'specific_h' is not defined"
     ]
    }
   ],
   "source": [
    "import numpy as np \n",
    "import pandas as pd\n",
    "data = pd.read_csv('pgm1.csv')\n",
    "concepts = np.array(data.iloc[:,0:-1])\n",
    "print(\"\\nInstances are:\\n\",concepts)\n",
    "target = np.array(data.iloc[:,-1])\n",
    "print(\"\\nTarget Values are: \",target)\n",
    "def learn(concepts, target): \n",
    "  specific_h = concepts[0].copy()\n",
    "  print(\"\\nInitialization of specific_h and genearal_h\")\n",
    "  print(\"\\nSpecific Boundary: \",specific_h)\n",
    "  general_h = [[\"?\" for i in range(len(specific_h))] for i in range(len(specific_h))]\n",
    "  print(\"\\nGeneric Boundary: \",general_h)  \n",
    "for i, h in enumerate(concepts):\n",
    "    print(\"\\nInstance\", i+1 , \"is \", h)\n",
    "    if target[i] == \"yes\":\n",
    "        print(\"Instance is Positive \")\n",
    "        for x in range(len(specific_h)): \n",
    "           if h[x]!= specific_h[x]:                    \n",
    "              specific_h[x] ='?'                     \n",
    "              general_h[x][x] ='?'\n",
    "    if target[i] == \"no\":            \n",
    "        print(\"Instance is Negative \")\n",
    "        for x in range(len(specific_h)): \n",
    "          if h[x]!= specific_h[x]:                    \n",
    "             general_h[x][x] = specific_h[x]                \n",
    "          else:           \n",
    "             general_h[x][x] = '?'        \n",
    "        \n",
    "        print(\"Specific Bundary after \", i+1, \"Instance is \",specific_h)         \n",
    "        print(\"Generic Boundary after \", i+1, \"Instance is \",general_h)\n",
    "        print(\"\\n\")\n",
    "\n",
    "indices = [i for i, val in enumerate(general_h) if val == ['?', '?', '?', '?', '?', '?']]    \n",
    "for i in indices:   \n",
    "        general_h.remove(['?', '?', '?', '?', '?', '?']) \n",
    "return specific_h, general_h \n",
    "\n",
    "s_final, g_final = learn(concepts, target)\n",
    "\n",
    "print(\"Final Specific_h: \", s_final, sep=\"\\n\")\n",
    "print(\"Final General_h: \", g_final, sep=\"\\n\")"
   ]
  },
  {
   "cell_type": "code",
   "execution_count": null,
   "id": "64da814f-a888-4ae3-b238-b5f8176ac7e3",
   "metadata": {},
   "outputs": [],
   "source": []
  }
 ],
 "metadata": {
  "kernelspec": {
   "display_name": "Python 3 (ipykernel)",
   "language": "python",
   "name": "python3"
  },
  "language_info": {
   "codemirror_mode": {
    "name": "ipython",
    "version": 3
   },
   "file_extension": ".py",
   "mimetype": "text/x-python",
   "name": "python",
   "nbconvert_exporter": "python",
   "pygments_lexer": "ipython3",
   "version": "3.12.3"
  }
 },
 "nbformat": 4,
 "nbformat_minor": 5
}
