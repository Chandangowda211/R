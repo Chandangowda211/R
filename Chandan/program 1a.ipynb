{
 "cells": [
  {
   "cell_type": "code",
   "execution_count": 1,
   "id": "2cb33b51-e8db-4890-9f1c-a9653d912d57",
   "metadata": {},
   "outputs": [
    {
     "name": "stdout",
     "output_type": "stream",
     "text": [
      "[['sunny', 'warm ', 'normal', 'strong', 'warm', 'same ', 'yes'], ['sunny', 'warm ', 'high', 'strong', 'warm', 'same ', 'yes'], ['rainy', 'cold', 'high', 'strong', 'warm', 'change', 'no'], ['sunny', 'warm ', 'high', 'strong', 'cool', 'change', 'yes']]\n",
      "\n",
      " the total number of traning instances are: 4\n",
      "\n",
      " The initial value of hypothesis: \n",
      "['0', '0', '0', '0', '0', '0']\n",
      "\n",
      "Instance  1 is ['sunny', 'warm ', 'normal', 'strong', 'warm', 'same ', 'yes']  and is positive Instance\n",
      "The hypothesis for the training instance 1  is:  ['sunny', 'warm ', 'normal', 'strong', 'warm', '?'] \n",
      "\n",
      "\n",
      "Instance  2 is ['sunny', 'warm ', 'high', 'strong', 'warm', 'same ', 'yes']  and is positive Instance\n",
      "The hypothesis for the training instance 2  is:  ['sunny', 'warm ', 'normal', 'strong', 'warm', '?'] \n",
      "\n",
      "The hypothesis for the training instance 3  is:  ['sunny', 'warm ', 'normal', 'strong', 'warm', '?'] \n",
      "\n",
      "\n",
      "Instance  3 is ['rainy', 'cold', 'high', 'strong', 'warm', 'change', 'no']  and is Negative Instance Hence Ignored\n",
      "The hypothesis for the training instance 3  is:  ['sunny', 'warm ', 'normal', 'strong', 'warm', '?'] \n",
      "\n",
      "\n",
      "Instance  4 is ['sunny', 'warm ', 'high', 'strong', 'cool', 'change', 'yes']  and is positive Instance\n",
      "The hypothesis for the training instance 4  is:  ['sunny', 'warm ', 'normal', 'strong', 'warm', '?'] \n",
      "\n",
      "\n",
      "The Maximally specific hypothesis for the training instance is  ['sunny', 'warm ', 'normal', 'strong', 'warm', '?']\n"
     ]
    }
   ],
   "source": [
    "import csv\n",
    "a = []\n",
    "with open('pgm1.csv', 'r') as csvfile:\n",
    " next(csvfile)\n",
    " for row in csv.reader(csvfile):\n",
    "   a.append (row)\n",
    " print(a)\n",
    " print(\"\\n the total number of traning instances are:\",len(a))\n",
    "num_attribute=len(a[0])-1\n",
    "print(\"\\n The initial value of hypothesis: \")\n",
    "hypothesis = ['0'] * num_attribute\n",
    "print(hypothesis)\n",
    "for i in range(0,len(a)):\n",
    " if a[i][num_attribute]=='yes':\n",
    "      print (\"\\nInstance \", i+1, \"is\", a[i], \" and is positive Instance\")\n",
    " for j in range(0,num_attribute):\n",
    "    if hypothesis[j] == '0' or hypothesis[j] == a[i][j]:\n",
    "       hypothesis[j] = a[i][j]\n",
    " else:\n",
    "    hypothesis[j] = '?'\n",
    "    print(\"The hypothesis for the training instance\", i+1, \" is: \" , hypothesis, \"\\n\")\n",
    "    if a[i][num_attribute] == 'no':\n",
    "        print (\"\\nInstance \", i+1, \"is\", a[i], \" and is Negative Instance Hence Ignored\")\n",
    "        print(\"The hypothesis for the training instance\", i+1, \" is: \" , hypothesis, \"\\n\")\n",
    "print(\"\\nThe Maximally specific hypothesis for the training instance is \", hypothesis)"
   ]
  },
  {
   "cell_type": "code",
   "execution_count": null,
   "id": "c2bbd70c-e90c-49c5-9fab-c16a29e84916",
   "metadata": {},
   "outputs": [],
   "source": []
  }
 ],
 "metadata": {
  "kernelspec": {
   "display_name": "Python 3 (ipykernel)",
   "language": "python",
   "name": "python3"
  },
  "language_info": {
   "codemirror_mode": {
    "name": "ipython",
    "version": 3
   },
   "file_extension": ".py",
   "mimetype": "text/x-python",
   "name": "python",
   "nbconvert_exporter": "python",
   "pygments_lexer": "ipython3",
   "version": "3.12.3"
  }
 },
 "nbformat": 4,
 "nbformat_minor": 5
}
